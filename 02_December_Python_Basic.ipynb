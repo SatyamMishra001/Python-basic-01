{
 "cells": [
  {
   "cell_type": "markdown",
   "id": "d70f2abf-f6d6-4515-8c69-b279216a537a",
   "metadata": {},
   "source": [
    "1. Declare two variables, `x` and `y`, and assign them integer values. Swap the\n",
    "values of these variables without using any temporary variable."
   ]
  },
  {
   "cell_type": "code",
   "execution_count": 17,
   "id": "b85fb16f-d8ad-462b-965b-c8cf336690b6",
   "metadata": {},
   "outputs": [
    {
     "name": "stdout",
     "output_type": "stream",
     "text": [
      "Before swapping the values are x = 5 , y = 6\n",
      "After swapping the values are x = 6 , y = 5\n"
     ]
    }
   ],
   "source": [
    "x, y = 5,6\n",
    "print(\"Before swapping the values are\",\"x =\",x,\",\", \"y =\",y)\n",
    "x = x+y\n",
    "y = x-y\n",
    "x= x-y\n",
    "print(\"After swapping the values are\",\"x =\",x,\",\", \"y =\",y)"
   ]
  },
  {
   "cell_type": "markdown",
   "id": "cad66072-1ce4-43a5-b199-34059adfcafb",
   "metadata": {},
   "source": [
    "2. Create a program that calculates the area of a rectangle. Take the length and\n",
    "width as inputs from the user and store them in variables. Calculate and\n",
    "display the area."
   ]
  },
  {
   "cell_type": "code",
   "execution_count": 10,
   "id": "7b850939-5ba7-4b1d-b171-c920f63b419c",
   "metadata": {},
   "outputs": [
    {
     "name": "stdin",
     "output_type": "stream",
     "text": [
      " 12\n",
      " 5\n"
     ]
    },
    {
     "name": "stdout",
     "output_type": "stream",
     "text": [
      "Area of rectangle is 60\n"
     ]
    }
   ],
   "source": [
    "Length = int(input())\n",
    "width = int(input())\n",
    "Area = Length * width\n",
    "print(\"Area of rectangle is\", Area)"
   ]
  },
  {
   "cell_type": "markdown",
   "id": "63fc1b8b-f5f2-4329-9503-4b074faae7b7",
   "metadata": {},
   "source": [
    "3. Write a Python program that converts temperatures from Celsius to\n",
    "Fahrenheit. Take the temperature in Celsius as input, store it in a variable,\n",
    "convert it to Fahrenheit, and display the result."
   ]
  },
  {
   "cell_type": "code",
   "execution_count": 22,
   "id": "c043d736-57c5-4d2f-a009-570c9d995905",
   "metadata": {},
   "outputs": [
    {
     "name": "stdout",
     "output_type": "stream",
     "text": [
      "Enter the temperature in celsius:\n"
     ]
    },
    {
     "name": "stdin",
     "output_type": "stream",
     "text": [
      " 32\n"
     ]
    },
    {
     "name": "stdout",
     "output_type": "stream",
     "text": [
      "Temperature in Fahrenheit is 89.6\n"
     ]
    }
   ],
   "source": [
    "print(\"Enter the temperature in celsius:\")\n",
    "celsius = int(input())\n",
    "Fahrenheit = (celsius*1.8) + 32\n",
    "print(\"Temperature in Fahrenheit is\", Fahrenheit)"
   ]
  },
  {
   "cell_type": "markdown",
   "id": "833feb15-1936-484d-9b4e-6178f4ce4348",
   "metadata": {},
   "source": [
    "String Based Questions\n",
    "1. Write a Python program that takes a string as input and prints the length of\n",
    "the string."
   ]
  },
  {
   "cell_type": "code",
   "execution_count": 68,
   "id": "211e3514-8236-421c-9b2b-8e59c61fbe19",
   "metadata": {},
   "outputs": [
    {
     "name": "stdin",
     "output_type": "stream",
     "text": [
      "Enter your name: Satyam\n"
     ]
    },
    {
     "name": "stdout",
     "output_type": "stream",
     "text": [
      "Length of string is 6\n"
     ]
    }
   ],
   "source": [
    "name = input(\"Enter your name:\")\n",
    "print(\"Length of string is\", len(name))\n"
   ]
  },
  {
   "cell_type": "markdown",
   "id": "f6cca9f2-7b36-415e-a601-16681c20b76e",
   "metadata": {},
   "source": [
    "2. Create a program that takes a sentence from the user and counts the number\n",
    "of vowels (a, e, i, o, u) in the string."
   ]
  },
  {
   "cell_type": "markdown",
   "id": "c4535a55-7061-4eda-8c5f-cb95c1e01461",
   "metadata": {},
   "source": []
  },
  {
   "cell_type": "code",
   "execution_count": 65,
   "id": "17048a09-2172-48ed-b8ea-c7633c0e26d8",
   "metadata": {},
   "outputs": [
    {
     "name": "stdin",
     "output_type": "stream",
     "text": [
      "Enter string: aieou\n"
     ]
    },
    {
     "name": "stdout",
     "output_type": "stream",
     "text": [
      "Number of vowels are: 5\n"
     ]
    }
   ],
   "source": [
    "string=input(\"Enter string:\")\n",
    "vowels=0\n",
    "for i in string:\n",
    "      if(i=='a' or i=='e' or i=='i' or i=='o' or i=='u' or i=='A' or i=='E' or i=='I' or i=='O' or i=='U'):\n",
    "            vowels=vowels+1\n",
    "print(\"Number of vowels are:\", vowels)\n"
   ]
  },
  {
   "cell_type": "markdown",
   "id": "a95460c0-2a69-4a3d-bd1e-894fb99b6d21",
   "metadata": {},
   "source": [
    "3. Given a string, reverse the order of characters using string slicing and print\n",
    "the reversed string."
   ]
  },
  {
   "cell_type": "code",
   "execution_count": 38,
   "id": "b8f6b0b3-764b-4622-a427-0b6b570aee52",
   "metadata": {},
   "outputs": [
    {
     "name": "stdout",
     "output_type": "stream",
     "text": [
      "String in reverse order is =  arhsiM maytaS\n"
     ]
    }
   ],
   "source": [
    "name =\"Satyam Mishra\"\n",
    "x=len(name)\n",
    "print(\"String in reverse order is = \",name[x-1::-1])"
   ]
  },
  {
   "cell_type": "markdown",
   "id": "e5f6ab30-55ec-4c01-9e67-80a3d1db187f",
   "metadata": {},
   "source": [
    "4. Write a program that takes a string as input and checks if it is a palindrome\n",
    "(reads the same forwards and backwards)."
   ]
  },
  {
   "cell_type": "code",
   "execution_count": 49,
   "id": "834347b7-ccda-423f-862e-ab9f904ef476",
   "metadata": {},
   "outputs": [
    {
     "name": "stdin",
     "output_type": "stream",
     "text": [
      " Satyam\n"
     ]
    },
    {
     "name": "stdout",
     "output_type": "stream",
     "text": [
      "String is non-palindrome\n"
     ]
    }
   ],
   "source": [
    "A = input()\n",
    "B = A[::-1]\n",
    "if A==B:\n",
    "    print(\"String is palindrome\")\n",
    "else:\n",
    "    print(\"String is non-palindrome\")\n",
    "\n"
   ]
  },
  {
   "cell_type": "markdown",
   "id": "50c612a2-041c-41a8-8860-8c2d13101910",
   "metadata": {},
   "source": [
    "5. Create a program that takes a string as input and removes all the spaces from\n",
    "it. Print the modified string without spaces."
   ]
  },
  {
   "cell_type": "code",
   "execution_count": 63,
   "id": "4011f3d8-4dcb-43f1-af3e-9e98dcd5f270",
   "metadata": {},
   "outputs": [
    {
     "name": "stdin",
     "output_type": "stream",
     "text": [
      " wo wo wo\n"
     ]
    },
    {
     "name": "stdout",
     "output_type": "stream",
     "text": [
      "String is = wowowo\n"
     ]
    }
   ],
   "source": [
    "A = input()\n",
    "print(\"String is =\", A.replace(\" \",\"\"))"
   ]
  },
  {
   "cell_type": "code",
   "execution_count": null,
   "id": "ce118a24-0749-43f3-b6b3-a462e6c6c21e",
   "metadata": {},
   "outputs": [],
   "source": []
  }
 ],
 "metadata": {
  "kernelspec": {
   "display_name": "Python 3 (ipykernel)",
   "language": "python",
   "name": "python3"
  },
  "language_info": {
   "codemirror_mode": {
    "name": "ipython",
    "version": 3
   },
   "file_extension": ".py",
   "mimetype": "text/x-python",
   "name": "python",
   "nbconvert_exporter": "python",
   "pygments_lexer": "ipython3",
   "version": "3.10.8"
  }
 },
 "nbformat": 4,
 "nbformat_minor": 5
}
